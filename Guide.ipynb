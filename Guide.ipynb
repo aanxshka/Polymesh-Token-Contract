{
 "cells": [
  {
   "cell_type": "markdown",
   "metadata": {},
   "source": [
    "<b><h5>Guide to writing a Smart Contract for Polymesh<h5><b>"
   ]
  },
  {
   "cell_type": "markdown",
   "metadata": {},
   "source": [
    "Polymesh supports the development of smart contracts but is designed with unique requirements that differ from Ethereum. On Polymesh, the primary language for smart contracts is Rust."
   ]
  },
  {
   "cell_type": "markdown",
   "metadata": {},
   "source": [
    "1. Setup the Environment "
   ]
  },
  {
   "cell_type": "markdown",
   "metadata": {},
   "source": [
    "- Install Rust and set up Environment.\n",
    "*Disclaimer: takes a while*"
   ]
  },
  {
   "cell_type": "code",
   "execution_count": null,
   "metadata": {
    "vscode": {
     "languageId": "plaintext"
    }
   },
   "outputs": [],
   "source": [
    "curl --proto '=https' --tlsv1.2 -sSf https://sh.rustup.rs | sh\n",
    "rustup target add wasm32-unknown-unknown --toolchain nightly\n",
    "cargo install cargo-contract --force"
   ]
  },
  {
   "cell_type": "markdown",
   "metadata": {},
   "source": [
    "- Create a directory for your project and initialize it"
   ]
  },
  {
   "cell_type": "code",
   "execution_count": null,
   "metadata": {
    "vscode": {
     "languageId": "plaintext"
    }
   },
   "outputs": [],
   "source": [
    "mkdir polymesh-token-contract && cd erc20-polymesh\n",
    "cargo contract new polymesh_token"
   ]
  },
  {
   "cell_type": "markdown",
   "metadata": {},
   "source": [
    "2. Replace the contents of lib.rs with your contract\n"
   ]
  },
  {
   "cell_type": "markdown",
   "metadata": {},
   "source": [
    "Explanation of Key ink! Syntax:\n",
    "- #[ink(storage)]: Defines the storage structure of the contract. Each field in the structure corresponds to data stored on the blockchain.\n",
    "- #[ink(event)]: Declares events that the contract can emit, which can be indexed and quieried from the blockchain.\n",
    "- #[ink(construcutor)]: Specifies a constructor function called once during contract deployment.\n",
    "- #[ink(message)]: Marks a function as callable by external accounts. These functions define the public API of the contract.\n",
    "- self.env().caller(): Retrieves the account ID of the entity calling the contract.\n",
    "- storage::Mapping: A key-value structure provided by ink! for efficient blockchain storage."
   ]
  },
  {
   "cell_type": "markdown",
   "metadata": {},
   "source": [
    "3. Build the contract"
   ]
  },
  {
   "cell_type": "code",
   "execution_count": null,
   "metadata": {
    "vscode": {
     "languageId": "plaintext"
    }
   },
   "outputs": [],
   "source": [
    "cargo contract build"
   ]
  },
  {
   "cell_type": "markdown",
   "metadata": {},
   "source": [
    "If you face errors and need to debug, clean and rebuild project:\n",
    "\n",
    "You can refer to ink!'s official documentation to help debug: https://use.ink/ or chatgpt\n"
   ]
  },
  {
   "cell_type": "code",
   "execution_count": null,
   "metadata": {
    "vscode": {
     "languageId": "plaintext"
    }
   },
   "outputs": [],
   "source": [
    "cargo clean\n",
    "cargo contract build"
   ]
  },
  {
   "cell_type": "markdown",
   "metadata": {},
   "source": [
    "4. Deploy to Polymesh"
   ]
  },
  {
   "cell_type": "markdown",
   "metadata": {},
   "source": []
  },
  {
   "cell_type": "markdown",
   "metadata": {},
   "source": [
    "<b><h5>Appendix<h5><b>"
   ]
  },
  {
   "cell_type": "markdown",
   "metadata": {},
   "source": [
    "1. Rust\n",
    "- Rust is the programming language used here \n",
    "- A general-purpose programming language known for performance, memory safety and zero-cost abstractions\n",
    "- Used for writing software across a wide range of applications "
   ]
  },
  {
   "cell_type": "markdown",
   "metadata": {},
   "source": [
    "2. ink! \n",
    "- ink! is a domain-specific language (DSL) built on top of Rust deisgned specifically for writing smart contracts for Substrate-based blockchains like Polymesh\n",
    "- Provides tools and macros (like #[ink(storage)] and #[ink(message)]) to define contract logic and interact with blockcgain storage\n",
    "- Helps manage blockhain-specific features (like events, storage mappings, and accounts) while still leveraging Rust's capabilities"
   ]
  },
  {
   "cell_type": "markdown",
   "metadata": {},
   "source": [
    "3. Substrate\n",
    "- A Substrate-based blockchain is a blochain framework built on the Substrate framework, developed by Parity Technologies\n",
    "- Substrate allows developers to build custom blockchains tailored to specific use cases without having to start from scratch \n",
    "- For smart contracts, Substrate offers the pallet-contracts with supports Wasm-based contracts (like those written in ink!)\n",
    "- Substrate comppiles runtime logic into Wasm, enabling cross-platform execution and smart contracts like those written in ink! are also compiled to Wasm before deployment \n",
    "- Polymesh uses Substrate for its Customizability, Modularity (focusing its unique use case of regulated finance while leveraging Substrate's core features) and Smart Contracts\n"
   ]
  }
 ],
 "metadata": {
  "language_info": {
   "name": "python"
  }
 },
 "nbformat": 4,
 "nbformat_minor": 2
}
